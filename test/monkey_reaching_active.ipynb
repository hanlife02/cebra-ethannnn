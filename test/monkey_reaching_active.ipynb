{
 "cells": [
  {
   "cell_type": "markdown",
   "id": "911e0e4b",
   "metadata": {},
   "source": [
    "# data"
   ]
  },
  {
   "cell_type": "code",
   "execution_count": 3,
   "id": "f5425f92",
   "metadata": {},
   "outputs": [
    {
     "name": "stdout",
     "output_type": "stream",
     "text": [
      "Dataset input dimension: 65\n",
      "Dataset length: 115800\n",
      "Continuous labels shape: torch.Size([115800, 2])\n",
      "Discrete labels shape: torch.Size([115800])\n"
     ]
    }
   ],
   "source": [
    "import cebra\n",
    "from cebra.datasets import init as dataset_init\n",
    "\n",
    "# active\n",
    "# 1. 基础数据集\n",
    "dataset = dataset_init(\"area2-bump\")\n",
    "\n",
    "# 2. 带手部位置标签的数据集\n",
    "pos_dataset = dataset_init(\"area2-bump-pos-active\")  \n",
    "\n",
    "# 3. 带目标方向标签的数据集 \n",
    "target_dataset = dataset_init(\"area2-bump-target-active\")\n",
    "\n",
    "# 4. 同时带位置和方向标签的数据集\n",
    "posdir_dataset = dataset_init(\"area2-bump-posdir-active\")\n",
    "\n",
    "# 检查数据特征\n",
    "print(\"Dataset input dimension:\", dataset.input_dimension)\n",
    "print(\"Dataset length:\", len(dataset))\n",
    "\n",
    "# 获取连续标签(如果有)\n",
    "continuous_labels = dataset.continuous_index\n",
    "if continuous_labels is not None:\n",
    "    print(\"Continuous labels shape:\", continuous_labels.shape)\n",
    "\n",
    "# 获取离散标签(如果有)\n",
    "discrete_labels = dataset.discrete_index\n",
    "if discrete_labels is not None:\n",
    "    print(\"Discrete labels shape:\", discrete_labels.shape)\n",
    "\n",
    "# 分割数据集\n",
    "train_dataset = dataset.split(\"train\")\n",
    "valid_dataset = dataset.split(\"valid\")\n",
    "test_dataset = dataset.split(\"test\")"
   ]
  },
  {
   "cell_type": "code",
   "execution_count": null,
   "id": "1ce9a322",
   "metadata": {},
   "outputs": [],
   "source": [
    "# passive\n",
    "# 1. 基础数据集\n",
    "dataset = dataset_init(\"area2-bump\")\n",
    "\n",
    "# 2. 带手部位置标签的数据集\n",
    "pos_dataset = dataset_init(\"area2-bump-pos-active\")  \n",
    "\n",
    "# 3. 带目标方向标签的数据集 \n",
    "target_dataset = dataset_init(\"area2-bump-target-active\")\n",
    "\n",
    "# 4. 同时带位置和方向标签的数据集\n",
    "posdir_dataset = dataset_init(\"area2-bump-posdir-active\")\n",
    "\n",
    "# 检查数据特征\n",
    "print(\"Dataset input dimension:\", dataset.input_dimension)\n",
    "print(\"Dataset length:\", len(dataset))\n",
    "\n",
    "# 获取连续标签(如果有)\n",
    "continuous_labels = dataset.continuous_index\n",
    "if continuous_labels is not None:\n",
    "    print(\"Continuous labels shape:\", continuous_labels.shape)\n",
    "\n",
    "# 获取离散标签(如果有)\n",
    "discrete_labels = dataset.discrete_index\n",
    "if discrete_labels is not None:\n",
    "    print(\"Discrete labels shape:\", discrete_labels.shape)\n",
    "\n",
    "# 分割数据集\n",
    "train_dataset = dataset.split(\"train\")\n",
    "valid_dataset = dataset.split(\"valid\")\n",
    "test_dataset = dataset.split(\"test\")"
   ]
  },
  {
   "cell_type": "markdown",
   "id": "933ee5fb",
   "metadata": {},
   "source": [
    "# model definition"
   ]
  },
  {
   "cell_type": "code",
   "execution_count": null,
   "id": "5dc30a9a",
   "metadata": {},
   "outputs": [],
   "source": [
    "from cebra import CEBRA\n",
    "import cebra.models\n",
    "\n",
    "max_iterations = 15000"
   ]
  },
  {
   "cell_type": "code",
   "execution_count": null,
   "id": "0b8af7b8",
   "metadata": {},
   "outputs": [],
   "source": [
    "cebra_pos_model = CEBRA(model_architecture='offset10-model',\n",
    "                        batch_size=512,\n",
    "                        learning_rate=0.0001,\n",
    "                        temperature=1,\n",
    "                        output_dimension=3,\n",
    "                        max_iterations=max_iterations,\n",
    "                        distance='cosine',\n",
    "                        conditional='time_delta',\n",
    "                        device='cuda_if_available',\n",
    "                        verbose=True,\n",
    "                        time_offsets=10)"
   ]
  },
  {
   "cell_type": "code",
   "execution_count": null,
   "id": "7115023e",
   "metadata": {},
   "outputs": [],
   "source": [
    "cebra_target_model = CEBRA(model_architecture='offset10-model',\n",
    "                           batch_size=512,\n",
    "                           learning_rate=0.0001,\n",
    "                           temperature=1,\n",
    "                           output_dimension=3,\n",
    "                           max_iterations=max_iterations,\n",
    "                           distance='cosine',\n",
    "                           conditional='time_delta',\n",
    "                           device='cuda_if_available',\n",
    "                           verbose=True,\n",
    "                           time_offsets=10)"
   ]
  },
  {
   "cell_type": "code",
   "execution_count": null,
   "id": "c55ca56a",
   "metadata": {},
   "outputs": [],
   "source": [
    "cebra_time_model = CEBRA(model_architecture='offset10-model',\n",
    "                         batch_size=512,\n",
    "                         learning_rate=0.0001,\n",
    "                         temperature=1,\n",
    "                         output_dimension=3,\n",
    "                         max_iterations=max_iterations,\n",
    "                         distance='cosine',\n",
    "                         conditional='time',\n",
    "                         device='cuda_if_available',\n",
    "                         verbose=True,\n",
    "                         time_offsets=5)"
   ]
  },
  {
   "cell_type": "markdown",
   "id": "45deb0ab",
   "metadata": {},
   "source": [
    "# model training"
   ]
  },
  {
   "cell_type": "markdown",
   "id": "d5ed4057",
   "metadata": {},
   "source": [
    "## pos"
   ]
  },
  {
   "cell_type": "code",
   "execution_count": null,
   "id": "bfad5462",
   "metadata": {},
   "outputs": [],
   "source": [
    "cebra_pos_model.fit(pos_dataset.neural, pos_dataset.continuous_index.numpy())\n",
    "cebra_pos = cebra_pos_model.transform(pos_dataset.neural)"
   ]
  },
  {
   "cell_type": "code",
   "execution_count": null,
   "id": "0251bef5",
   "metadata": {},
   "outputs": [],
   "source": [
    "cebra.plot_embedding(cebra_pos)"
   ]
  },
  {
   "cell_type": "code",
   "execution_count": null,
   "id": "dd3aea7f",
   "metadata": {},
   "outputs": [],
   "source": [
    "import numpy as np\n",
    "import matplotlib.pyplot as plt\n",
    "%matplotlib inline\n",
    "fig = plt.figure(figsize=(12, 5))\n",
    "plt.suptitle('CEBRA-behavior trained with position label',\n",
    "             fontsize=20)\n",
    "ax = plt.subplot(121, projection = '3d')\n",
    "ax.set_title('x', fontsize=20, y=0)\n",
    "x = ax.scatter(cebra_pos[:, 0],\n",
    "               cebra_pos[:, 1],\n",
    "               cebra_pos[:, 2],\n",
    "               c=pos_dataset.continuous_index[:, 0],\n",
    "               cmap='seismic',\n",
    "               s=0.05,\n",
    "               vmin=-15,\n",
    "               vmax=15)\n",
    "ax.axis('off')\n",
    "ax = plt.subplot(122, projection = '3d')\n",
    "y = ax.scatter(cebra_pos[:, 0],\n",
    "               cebra_pos[:, 1],\n",
    "               cebra_pos[:, 2],\n",
    "               c=pos_dataset.continuous_index[:, 1],\n",
    "               cmap='seismic',\n",
    "               s=0.05,\n",
    "               vmin=-15,\n",
    "               vmax=15)\n",
    "ax.axis('off')\n",
    "ax.set_title('y', fontsize=20, y=0)\n",
    "yc = plt.colorbar(y, fraction=0.03, pad=0.05, ticks=np.linspace(-15, 15, 7))\n",
    "yc.ax.tick_params(labelsize=15)\n",
    "yc.ax.set_title(\"(cm)\", fontsize=10)\n",
    "plt.show()"
   ]
  },
  {
   "cell_type": "code",
   "execution_count": null,
   "id": "7d0d46ca",
   "metadata": {},
   "outputs": [],
   "source": [
    "cebra.plot_loss(cebra_pos_model)"
   ]
  },
  {
   "cell_type": "markdown",
   "id": "02313a5d",
   "metadata": {},
   "source": [
    "## target"
   ]
  },
  {
   "cell_type": "code",
   "execution_count": null,
   "id": "9d1fac3b",
   "metadata": {},
   "outputs": [],
   "source": [
    "cebra_target_model.fit(target_dataset.neural,\n",
    "                       target_dataset.discrete_index.numpy())\n",
    "cebra_target = cebra_target_model.transform(target_dataset.neural)"
   ]
  },
  {
   "cell_type": "code",
   "execution_count": null,
   "id": "1240ca69",
   "metadata": {},
   "outputs": [],
   "source": [
    "cebra.plot_embedding(cebra_target)"
   ]
  },
  {
   "cell_type": "code",
   "execution_count": null,
   "id": "6878b0ee",
   "metadata": {},
   "outputs": [],
   "source": [
    "\n",
    "fig = plt.figure(figsize=(4, 2), dpi=300)\n",
    "plt.suptitle('CEBRA-behavior trained with target label',\n",
    "             fontsize=5)\n",
    "ax = plt.subplot(121, projection = '3d')\n",
    "ax.set_title('All trials embedding', fontsize=5, y=-0.1)\n",
    "x = ax.scatter(cebra_target[:, 0],\n",
    "               cebra_target[:, 1],\n",
    "               cebra_target[:, 2],\n",
    "               c=target_dataset.discrete_index,\n",
    "               cmap=plt.cm.hsv,\n",
    "               s=0.01)\n",
    "ax.axis('off')\n",
    "\n",
    "ax = plt.subplot(122,projection = '3d')\n",
    "ax.set_title('direction-averaged embedding', fontsize=5, y=-0.1)\n",
    "for i in range(8):\n",
    "    direction_trial = (target_dataset.discrete_index == i)\n",
    "    trial_avg = cebra_target[direction_trial, :].reshape(-1, 600,\n",
    "                                                         3).mean(axis=0)\n",
    "    trial_avg_normed = trial_avg/np.linalg.norm(trial_avg, axis=1)[:,None]\n",
    "    ax.scatter(trial_avg_normed[:, 0],\n",
    "               trial_avg_normed[:, 1],\n",
    "               trial_avg_normed[:, 2],\n",
    "               color=plt.cm.hsv(1 / 8 * i),\n",
    "               s=0.01)\n",
    "ax.axis('off')\n",
    "plt.show()"
   ]
  },
  {
   "cell_type": "code",
   "execution_count": null,
   "id": "f5f93072",
   "metadata": {},
   "outputs": [],
   "source": [
    "cebra.plot_loss(cebra_target_model)"
   ]
  },
  {
   "cell_type": "markdown",
   "id": "fc714314",
   "metadata": {},
   "source": [
    "## time"
   ]
  },
  {
   "cell_type": "code",
   "execution_count": null,
   "id": "45dcf2a3",
   "metadata": {},
   "outputs": [],
   "source": [
    "cebra_time_model.fit(target_dataset.neural)\n",
    "cebra_time = cebra_time_model.transform(target_dataset.neural)"
   ]
  },
  {
   "cell_type": "code",
   "execution_count": null,
   "id": "7855dfdf",
   "metadata": {},
   "outputs": [],
   "source": [
    "cebra.plot_embedding(cebra_time)"
   ]
  },
  {
   "cell_type": "code",
   "execution_count": null,
   "id": "e42c0b3b",
   "metadata": {},
   "outputs": [],
   "source": [
    "fig = plt.figure(figsize=(4, 2), dpi=300)\n",
    "plt.suptitle('CEBRA-time', fontsize=5)\n",
    "ax = plt.subplot(121, projection='3d')\n",
    "ax.set_title('x', fontsize=4, y=-0.1)\n",
    "x = ax.scatter(cebra_time[:, 0],\n",
    "               cebra_time[:, 1],\n",
    "               cebra_time[:, 2],\n",
    "               c=pos_dataset.continuous_index[:, 0],\n",
    "               cmap='seismic',\n",
    "               s=0.05,\n",
    "               vmin=-15,\n",
    "               vmax=15)\n",
    "ax.axis('off')\n",
    "ax = plt.subplot(122, projection='3d')\n",
    "y = ax.scatter(cebra_time[:, 0],\n",
    "               cebra_time[:, 1],\n",
    "               cebra_time[:, 2],\n",
    "               c=pos_dataset.continuous_index[:, 1],\n",
    "               cmap='seismic',\n",
    "               s=0.05,\n",
    "               vmin=-15,\n",
    "               vmax=15)\n",
    "ax.axis('off')\n",
    "ax.set_title('y', fontsize=5, y=-0.1)\n",
    "yc = plt.colorbar(y, fraction=0.03, pad=0.05, ticks=np.linspace(-15, 15, 7))\n",
    "yc.ax.tick_params(labelsize=3)\n",
    "yc.ax.set_title(\"(cm)\", fontsize=5)\n",
    "plt.show()"
   ]
  },
  {
   "cell_type": "code",
   "execution_count": null,
   "id": "8b887ae5",
   "metadata": {},
   "outputs": [],
   "source": [
    "cebra.plot_loss(cebra_time_model)"
   ]
  },
  {
   "cell_type": "code",
   "execution_count": null,
   "id": "6e66f1e8",
   "metadata": {},
   "outputs": [],
   "source": [
    "import cebra\n",
    "\n",
    "# Labels to be used for the legend of the plot (optional)\n",
    "labels = [\"pos\", \"target\", \"time\"]\n",
    "\n",
    "cebra.compare_models([cebra_pos_model, cebra_target_model, cebra_time_model], labels)"
   ]
  }
 ],
 "metadata": {
  "kernelspec": {
   "display_name": "cebra-ethan",
   "language": "python",
   "name": "python3"
  },
  "language_info": {
   "codemirror_mode": {
    "name": "ipython",
    "version": 3
   },
   "file_extension": ".py",
   "mimetype": "text/x-python",
   "name": "python",
   "nbconvert_exporter": "python",
   "pygments_lexer": "ipython3",
   "version": "3.9.21"
  }
 },
 "nbformat": 4,
 "nbformat_minor": 5
}
